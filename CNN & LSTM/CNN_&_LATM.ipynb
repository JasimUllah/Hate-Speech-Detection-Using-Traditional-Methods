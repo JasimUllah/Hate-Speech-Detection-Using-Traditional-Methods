{
  "nbformat": 4,
  "nbformat_minor": 0,
  "metadata": {
    "colab": {
      "provenance": []
    },
    "kernelspec": {
      "name": "python3",
      "display_name": "Python 3"
    },
    "language_info": {
      "name": "python"
    }
  },
  "cells": [
    {
      "cell_type": "code",
      "execution_count": null,
      "metadata": {
        "id": "LT8Hbfp9qvtV"
      },
      "outputs": [],
      "source": [
        "import pandas as pd\n",
        "import numpy as np\n",
        "import tensorflow as tf\n",
        "from tensorflow.keras.preprocessing.text import Tokenizer\n",
        "from tensorflow.keras.preprocessing.sequence import pad_sequences\n",
        "from sklearn.model_selection import train_test_split\n",
        "from sklearn.metrics import accuracy_score, precision_score, f1_score, confusion_matrix\n",
        "import time\n",
        "import matplotlib.pyplot as plt\n"
      ]
    },
    {
      "cell_type": "code",
      "source": [
        "# Load the dataset\n",
        "data = pd.read_csv(\"Roman_Urdu.csv\", encoding = 'latin1')\n",
        "\n",
        "# Drop rows with missing values\n",
        "data.dropna(inplace=True)\n",
        "\n",
        "# Remove unwanted symbols\n",
        "data['tweets'] = data['tweets'].str.replace('[^\\w\\s]','')\n",
        "\n",
        "# Split data into features and labels\n",
        "X = data['tweets'].values\n",
        "y = data['label'].values\n",
        "\n",
        "# Tokenize the text\n",
        "tokenizer = Tokenizer(num_words=5000)\n",
        "tokenizer.fit_on_texts(X)\n",
        "X = tokenizer.texts_to_sequences(X)\n",
        "X = pad_sequences(X, maxlen=100)\n",
        "data.head(20)"
      ],
      "metadata": {
        "colab": {
          "base_uri": "https://localhost:8080/",
          "height": 676
        },
        "id": "MMEzQISLq5gx",
        "outputId": "a898bbe5-f1bc-479a-a525-13e62340849a"
      },
      "execution_count": null,
      "outputs": [
        {
          "output_type": "execute_result",
          "data": {
            "text/plain": [
              "                                               tweets label\n",
              "0    14 crore ke project ko banaa ke 14 arab khaa ...     H\n",
              "1         Abhi bari hojao phir siyasat ki baat karna      H\n",
              "2    Allah aap ko sehat zindagi dy taky aap choron...     H\n",
              "3                         antiii bhaii full gussy m h     H\n",
              "4    Beshak bahar se parh ke aaya ho lekin bilawal...     H\n",
              "5    hum  hai fb Jemee Usman kay king hum se, pang...     H\n",
              "6    Imran khan ney kiya kiya apnay national telev...     H\n",
              "7    inka sar oraya jaye dosra asla par pabandi la...     H\n",
              "8    lahoriiii burger Soja beta apka time hogya. S...     H\n",
              "9    Lannat beshamarGo Qamar Bajwa goGo cheap just...     H\n",
              "10   wardi walon ki baat karta hai wardi walay bec...     H\n",
              "11                                 Ye to lol Ho Giya.     H\n",
              "12    afghnadostan namak haraam saag khoor gando koom     H\n",
              "13   pure desh ko motar peny wali Qom ka b pta ha ...     H\n",
              "14   Tum Jaise chirkut Aaj is chunauti de rahe ho ...     H\n",
              "15             \" Ye banda kyu Horn Porn Baja Raha hay     H\n",
              "16  \"mister tuk tuk\" ke naam se janey jaaney waley...     H\n",
              "17  * Jin LOgo Nay Dhandli Ki Thy Unhy Sary Amm Ph...     H\n",
              "18  *Itni itni pyari sarkein bnayi hain * bat pta ...     H\n",
              "19  .. ap q saath derahe hain pti ka?? Apko bhi du...     H"
            ],
            "text/html": [
              "\n",
              "  <div id=\"df-e9e1763a-2855-4b73-8e6c-0e59456fd4f2\" class=\"colab-df-container\">\n",
              "    <div>\n",
              "<style scoped>\n",
              "    .dataframe tbody tr th:only-of-type {\n",
              "        vertical-align: middle;\n",
              "    }\n",
              "\n",
              "    .dataframe tbody tr th {\n",
              "        vertical-align: top;\n",
              "    }\n",
              "\n",
              "    .dataframe thead th {\n",
              "        text-align: right;\n",
              "    }\n",
              "</style>\n",
              "<table border=\"1\" class=\"dataframe\">\n",
              "  <thead>\n",
              "    <tr style=\"text-align: right;\">\n",
              "      <th></th>\n",
              "      <th>tweets</th>\n",
              "      <th>label</th>\n",
              "    </tr>\n",
              "  </thead>\n",
              "  <tbody>\n",
              "    <tr>\n",
              "      <th>0</th>\n",
              "      <td>14 crore ke project ko banaa ke 14 arab khaa ...</td>\n",
              "      <td>H</td>\n",
              "    </tr>\n",
              "    <tr>\n",
              "      <th>1</th>\n",
              "      <td>Abhi bari hojao phir siyasat ki baat karna</td>\n",
              "      <td>H</td>\n",
              "    </tr>\n",
              "    <tr>\n",
              "      <th>2</th>\n",
              "      <td>Allah aap ko sehat zindagi dy taky aap choron...</td>\n",
              "      <td>H</td>\n",
              "    </tr>\n",
              "    <tr>\n",
              "      <th>3</th>\n",
              "      <td>antiii bhaii full gussy m h</td>\n",
              "      <td>H</td>\n",
              "    </tr>\n",
              "    <tr>\n",
              "      <th>4</th>\n",
              "      <td>Beshak bahar se parh ke aaya ho lekin bilawal...</td>\n",
              "      <td>H</td>\n",
              "    </tr>\n",
              "    <tr>\n",
              "      <th>5</th>\n",
              "      <td>hum  hai fb Jemee Usman kay king hum se, pang...</td>\n",
              "      <td>H</td>\n",
              "    </tr>\n",
              "    <tr>\n",
              "      <th>6</th>\n",
              "      <td>Imran khan ney kiya kiya apnay national telev...</td>\n",
              "      <td>H</td>\n",
              "    </tr>\n",
              "    <tr>\n",
              "      <th>7</th>\n",
              "      <td>inka sar oraya jaye dosra asla par pabandi la...</td>\n",
              "      <td>H</td>\n",
              "    </tr>\n",
              "    <tr>\n",
              "      <th>8</th>\n",
              "      <td>lahoriiii burger Soja beta apka time hogya. S...</td>\n",
              "      <td>H</td>\n",
              "    </tr>\n",
              "    <tr>\n",
              "      <th>9</th>\n",
              "      <td>Lannat beshamarGo Qamar Bajwa goGo cheap just...</td>\n",
              "      <td>H</td>\n",
              "    </tr>\n",
              "    <tr>\n",
              "      <th>10</th>\n",
              "      <td>wardi walon ki baat karta hai wardi walay bec...</td>\n",
              "      <td>H</td>\n",
              "    </tr>\n",
              "    <tr>\n",
              "      <th>11</th>\n",
              "      <td>Ye to lol Ho Giya.</td>\n",
              "      <td>H</td>\n",
              "    </tr>\n",
              "    <tr>\n",
              "      <th>12</th>\n",
              "      <td>afghnadostan namak haraam saag khoor gando koom</td>\n",
              "      <td>H</td>\n",
              "    </tr>\n",
              "    <tr>\n",
              "      <th>13</th>\n",
              "      <td>pure desh ko motar peny wali Qom ka b pta ha ...</td>\n",
              "      <td>H</td>\n",
              "    </tr>\n",
              "    <tr>\n",
              "      <th>14</th>\n",
              "      <td>Tum Jaise chirkut Aaj is chunauti de rahe ho ...</td>\n",
              "      <td>H</td>\n",
              "    </tr>\n",
              "    <tr>\n",
              "      <th>15</th>\n",
              "      <td>\" Ye banda kyu Horn Porn Baja Raha hay</td>\n",
              "      <td>H</td>\n",
              "    </tr>\n",
              "    <tr>\n",
              "      <th>16</th>\n",
              "      <td>\"mister tuk tuk\" ke naam se janey jaaney waley...</td>\n",
              "      <td>H</td>\n",
              "    </tr>\n",
              "    <tr>\n",
              "      <th>17</th>\n",
              "      <td>* Jin LOgo Nay Dhandli Ki Thy Unhy Sary Amm Ph...</td>\n",
              "      <td>H</td>\n",
              "    </tr>\n",
              "    <tr>\n",
              "      <th>18</th>\n",
              "      <td>*Itni itni pyari sarkein bnayi hain * bat pta ...</td>\n",
              "      <td>H</td>\n",
              "    </tr>\n",
              "    <tr>\n",
              "      <th>19</th>\n",
              "      <td>.. ap q saath derahe hain pti ka?? Apko bhi du...</td>\n",
              "      <td>H</td>\n",
              "    </tr>\n",
              "  </tbody>\n",
              "</table>\n",
              "</div>\n",
              "    <div class=\"colab-df-buttons\">\n",
              "\n",
              "  <div class=\"colab-df-container\">\n",
              "    <button class=\"colab-df-convert\" onclick=\"convertToInteractive('df-e9e1763a-2855-4b73-8e6c-0e59456fd4f2')\"\n",
              "            title=\"Convert this dataframe to an interactive table.\"\n",
              "            style=\"display:none;\">\n",
              "\n",
              "  <svg xmlns=\"http://www.w3.org/2000/svg\" height=\"24px\" viewBox=\"0 -960 960 960\">\n",
              "    <path d=\"M120-120v-720h720v720H120Zm60-500h600v-160H180v160Zm220 220h160v-160H400v160Zm0 220h160v-160H400v160ZM180-400h160v-160H180v160Zm440 0h160v-160H620v160ZM180-180h160v-160H180v160Zm440 0h160v-160H620v160Z\"/>\n",
              "  </svg>\n",
              "    </button>\n",
              "\n",
              "  <style>\n",
              "    .colab-df-container {\n",
              "      display:flex;\n",
              "      gap: 12px;\n",
              "    }\n",
              "\n",
              "    .colab-df-convert {\n",
              "      background-color: #E8F0FE;\n",
              "      border: none;\n",
              "      border-radius: 50%;\n",
              "      cursor: pointer;\n",
              "      display: none;\n",
              "      fill: #1967D2;\n",
              "      height: 32px;\n",
              "      padding: 0 0 0 0;\n",
              "      width: 32px;\n",
              "    }\n",
              "\n",
              "    .colab-df-convert:hover {\n",
              "      background-color: #E2EBFA;\n",
              "      box-shadow: 0px 1px 2px rgba(60, 64, 67, 0.3), 0px 1px 3px 1px rgba(60, 64, 67, 0.15);\n",
              "      fill: #174EA6;\n",
              "    }\n",
              "\n",
              "    .colab-df-buttons div {\n",
              "      margin-bottom: 4px;\n",
              "    }\n",
              "\n",
              "    [theme=dark] .colab-df-convert {\n",
              "      background-color: #3B4455;\n",
              "      fill: #D2E3FC;\n",
              "    }\n",
              "\n",
              "    [theme=dark] .colab-df-convert:hover {\n",
              "      background-color: #434B5C;\n",
              "      box-shadow: 0px 1px 3px 1px rgba(0, 0, 0, 0.15);\n",
              "      filter: drop-shadow(0px 1px 2px rgba(0, 0, 0, 0.3));\n",
              "      fill: #FFFFFF;\n",
              "    }\n",
              "  </style>\n",
              "\n",
              "    <script>\n",
              "      const buttonEl =\n",
              "        document.querySelector('#df-e9e1763a-2855-4b73-8e6c-0e59456fd4f2 button.colab-df-convert');\n",
              "      buttonEl.style.display =\n",
              "        google.colab.kernel.accessAllowed ? 'block' : 'none';\n",
              "\n",
              "      async function convertToInteractive(key) {\n",
              "        const element = document.querySelector('#df-e9e1763a-2855-4b73-8e6c-0e59456fd4f2');\n",
              "        const dataTable =\n",
              "          await google.colab.kernel.invokeFunction('convertToInteractive',\n",
              "                                                    [key], {});\n",
              "        if (!dataTable) return;\n",
              "\n",
              "        const docLinkHtml = 'Like what you see? Visit the ' +\n",
              "          '<a target=\"_blank\" href=https://colab.research.google.com/notebooks/data_table.ipynb>data table notebook</a>'\n",
              "          + ' to learn more about interactive tables.';\n",
              "        element.innerHTML = '';\n",
              "        dataTable['output_type'] = 'display_data';\n",
              "        await google.colab.output.renderOutput(dataTable, element);\n",
              "        const docLink = document.createElement('div');\n",
              "        docLink.innerHTML = docLinkHtml;\n",
              "        element.appendChild(docLink);\n",
              "      }\n",
              "    </script>\n",
              "  </div>\n",
              "\n",
              "\n",
              "<div id=\"df-633d5b35-5e50-4d13-a860-97a987ddfa1f\">\n",
              "  <button class=\"colab-df-quickchart\" onclick=\"quickchart('df-633d5b35-5e50-4d13-a860-97a987ddfa1f')\"\n",
              "            title=\"Suggest charts\"\n",
              "            style=\"display:none;\">\n",
              "\n",
              "<svg xmlns=\"http://www.w3.org/2000/svg\" height=\"24px\"viewBox=\"0 0 24 24\"\n",
              "     width=\"24px\">\n",
              "    <g>\n",
              "        <path d=\"M19 3H5c-1.1 0-2 .9-2 2v14c0 1.1.9 2 2 2h14c1.1 0 2-.9 2-2V5c0-1.1-.9-2-2-2zM9 17H7v-7h2v7zm4 0h-2V7h2v10zm4 0h-2v-4h2v4z\"/>\n",
              "    </g>\n",
              "</svg>\n",
              "  </button>\n",
              "\n",
              "<style>\n",
              "  .colab-df-quickchart {\n",
              "      --bg-color: #E8F0FE;\n",
              "      --fill-color: #1967D2;\n",
              "      --hover-bg-color: #E2EBFA;\n",
              "      --hover-fill-color: #174EA6;\n",
              "      --disabled-fill-color: #AAA;\n",
              "      --disabled-bg-color: #DDD;\n",
              "  }\n",
              "\n",
              "  [theme=dark] .colab-df-quickchart {\n",
              "      --bg-color: #3B4455;\n",
              "      --fill-color: #D2E3FC;\n",
              "      --hover-bg-color: #434B5C;\n",
              "      --hover-fill-color: #FFFFFF;\n",
              "      --disabled-bg-color: #3B4455;\n",
              "      --disabled-fill-color: #666;\n",
              "  }\n",
              "\n",
              "  .colab-df-quickchart {\n",
              "    background-color: var(--bg-color);\n",
              "    border: none;\n",
              "    border-radius: 50%;\n",
              "    cursor: pointer;\n",
              "    display: none;\n",
              "    fill: var(--fill-color);\n",
              "    height: 32px;\n",
              "    padding: 0;\n",
              "    width: 32px;\n",
              "  }\n",
              "\n",
              "  .colab-df-quickchart:hover {\n",
              "    background-color: var(--hover-bg-color);\n",
              "    box-shadow: 0 1px 2px rgba(60, 64, 67, 0.3), 0 1px 3px 1px rgba(60, 64, 67, 0.15);\n",
              "    fill: var(--button-hover-fill-color);\n",
              "  }\n",
              "\n",
              "  .colab-df-quickchart-complete:disabled,\n",
              "  .colab-df-quickchart-complete:disabled:hover {\n",
              "    background-color: var(--disabled-bg-color);\n",
              "    fill: var(--disabled-fill-color);\n",
              "    box-shadow: none;\n",
              "  }\n",
              "\n",
              "  .colab-df-spinner {\n",
              "    border: 2px solid var(--fill-color);\n",
              "    border-color: transparent;\n",
              "    border-bottom-color: var(--fill-color);\n",
              "    animation:\n",
              "      spin 1s steps(1) infinite;\n",
              "  }\n",
              "\n",
              "  @keyframes spin {\n",
              "    0% {\n",
              "      border-color: transparent;\n",
              "      border-bottom-color: var(--fill-color);\n",
              "      border-left-color: var(--fill-color);\n",
              "    }\n",
              "    20% {\n",
              "      border-color: transparent;\n",
              "      border-left-color: var(--fill-color);\n",
              "      border-top-color: var(--fill-color);\n",
              "    }\n",
              "    30% {\n",
              "      border-color: transparent;\n",
              "      border-left-color: var(--fill-color);\n",
              "      border-top-color: var(--fill-color);\n",
              "      border-right-color: var(--fill-color);\n",
              "    }\n",
              "    40% {\n",
              "      border-color: transparent;\n",
              "      border-right-color: var(--fill-color);\n",
              "      border-top-color: var(--fill-color);\n",
              "    }\n",
              "    60% {\n",
              "      border-color: transparent;\n",
              "      border-right-color: var(--fill-color);\n",
              "    }\n",
              "    80% {\n",
              "      border-color: transparent;\n",
              "      border-right-color: var(--fill-color);\n",
              "      border-bottom-color: var(--fill-color);\n",
              "    }\n",
              "    90% {\n",
              "      border-color: transparent;\n",
              "      border-bottom-color: var(--fill-color);\n",
              "    }\n",
              "  }\n",
              "</style>\n",
              "\n",
              "  <script>\n",
              "    async function quickchart(key) {\n",
              "      const quickchartButtonEl =\n",
              "        document.querySelector('#' + key + ' button');\n",
              "      quickchartButtonEl.disabled = true;  // To prevent multiple clicks.\n",
              "      quickchartButtonEl.classList.add('colab-df-spinner');\n",
              "      try {\n",
              "        const charts = await google.colab.kernel.invokeFunction(\n",
              "            'suggestCharts', [key], {});\n",
              "      } catch (error) {\n",
              "        console.error('Error during call to suggestCharts:', error);\n",
              "      }\n",
              "      quickchartButtonEl.classList.remove('colab-df-spinner');\n",
              "      quickchartButtonEl.classList.add('colab-df-quickchart-complete');\n",
              "    }\n",
              "    (() => {\n",
              "      let quickchartButtonEl =\n",
              "        document.querySelector('#df-633d5b35-5e50-4d13-a860-97a987ddfa1f button');\n",
              "      quickchartButtonEl.style.display =\n",
              "        google.colab.kernel.accessAllowed ? 'block' : 'none';\n",
              "    })();\n",
              "  </script>\n",
              "</div>\n",
              "\n",
              "    </div>\n",
              "  </div>\n"
            ],
            "application/vnd.google.colaboratory.intrinsic+json": {
              "type": "dataframe",
              "variable_name": "data",
              "summary": "{\n  \"name\": \"data\",\n  \"rows\": 29999,\n  \"fields\": [\n    {\n      \"column\": \"tweets\",\n      \"properties\": {\n        \"dtype\": \"string\",\n        \"num_unique_values\": 29834,\n        \"samples\": [\n          \"aisha or rambo jesay behooda log kanjrion or gashtion kee harami nasal hoti hyn\",\n          \"Apki shop kahan ha\",\n          \"ager aisey nachna talent hai to shadiyon mein nachney waley sarey gaandu bachey talented huay\"\n        ],\n        \"semantic_type\": \"\",\n        \"description\": \"\"\n      }\n    },\n    {\n      \"column\": \"label\",\n      \"properties\": {\n        \"dtype\": \"category\",\n        \"num_unique_values\": 2,\n        \"samples\": [\n          \"N\",\n          \"H\"\n        ],\n        \"semantic_type\": \"\",\n        \"description\": \"\"\n      }\n    }\n  ]\n}"
            }
          },
          "metadata": {},
          "execution_count": 4
        }
      ]
    },
    {
      "cell_type": "code",
      "source": [
        "X_train, X_test, y_train, y_test = train_test_split(X, y, test_size=0.2, random_state=42)\n"
      ],
      "metadata": {
        "id": "EBZQ5EHVrf7I"
      },
      "execution_count": null,
      "outputs": []
    },
    {
      "cell_type": "code",
      "source": [
        "model = tf.keras.Sequential([\n",
        "    tf.keras.layers.Embedding(5000, 128, input_length=100),\n",
        "    tf.keras.layers.Dropout(0.2),\n",
        "    tf.keras.layers.Conv1D(64, 5, activation='relu'),\n",
        "    tf.keras.layers.MaxPooling1D(pool_size=4),\n",
        "    tf.keras.layers.LSTM(64),\n",
        "    tf.keras.layers.Dense(1, activation='sigmoid')\n",
        "])\n",
        "model.compile(loss='binary_crossentropy',optimizer='adam',metrics=['accuracy'])\n"
      ],
      "metadata": {
        "id": "zlPGW1MjsG9-"
      },
      "execution_count": null,
      "outputs": []
    },
    {
      "cell_type": "code",
      "source": [
        "# Convert labels to binary format (0 and 1)\n",
        "y_train = np.where(y_train == 'N', 0, 1)\n",
        "y_test = np.where(y_test == 'N', 0, 1)\n",
        "\n",
        "# Convert labels to float32\n",
        "y_train = y_train.astype('float32')\n",
        "y_test = y_test.astype('float32')\n"
      ],
      "metadata": {
        "id": "wEh7HngnswrA"
      },
      "execution_count": null,
      "outputs": []
    },
    {
      "cell_type": "code",
      "source": [
        "start_time = time.time()\n",
        "history = model.fit(X_train, y_train, epochs=50, batch_size=32, validation_data=(X_test, y_test))\n",
        "end_time = time.time()\n",
        "training_time = end_time - start_time\n"
      ],
      "metadata": {
        "colab": {
          "base_uri": "https://localhost:8080/"
        },
        "id": "DfQ_8cvRsKih",
        "outputId": "22694495-c418-4a25-9597-9e340d7c662b"
      },
      "execution_count": null,
      "outputs": [
        {
          "output_type": "stream",
          "name": "stdout",
          "text": [
            "Epoch 1/50\n",
            "750/750 [==============================] - 51s 65ms/step - loss: 0.3888 - accuracy: 0.8185 - val_loss: 0.3238 - val_accuracy: 0.8602\n",
            "Epoch 2/50\n",
            "750/750 [==============================] - 45s 60ms/step - loss: 0.2516 - accuracy: 0.8950 - val_loss: 0.3178 - val_accuracy: 0.8632\n",
            "Epoch 3/50\n",
            "750/750 [==============================] - 45s 60ms/step - loss: 0.1864 - accuracy: 0.9259 - val_loss: 0.3469 - val_accuracy: 0.8602\n",
            "Epoch 4/50\n",
            "750/750 [==============================] - 46s 61ms/step - loss: 0.1262 - accuracy: 0.9517 - val_loss: 0.4316 - val_accuracy: 0.8507\n",
            "Epoch 5/50\n",
            "750/750 [==============================] - 48s 64ms/step - loss: 0.0777 - accuracy: 0.9710 - val_loss: 0.5679 - val_accuracy: 0.8425\n",
            "Epoch 6/50\n",
            "750/750 [==============================] - 45s 60ms/step - loss: 0.0517 - accuracy: 0.9812 - val_loss: 0.7171 - val_accuracy: 0.8413\n",
            "Epoch 7/50\n",
            "750/750 [==============================] - 45s 60ms/step - loss: 0.0377 - accuracy: 0.9862 - val_loss: 0.7821 - val_accuracy: 0.8415\n",
            "Epoch 8/50\n",
            "750/750 [==============================] - 46s 61ms/step - loss: 0.0337 - accuracy: 0.9875 - val_loss: 0.8251 - val_accuracy: 0.8425\n",
            "Epoch 9/50\n",
            "750/750 [==============================] - 49s 65ms/step - loss: 0.0312 - accuracy: 0.9884 - val_loss: 0.9038 - val_accuracy: 0.8403\n",
            "Epoch 10/50\n",
            "750/750 [==============================] - 45s 60ms/step - loss: 0.0268 - accuracy: 0.9898 - val_loss: 0.8510 - val_accuracy: 0.8437\n",
            "Epoch 11/50\n",
            "750/750 [==============================] - 45s 60ms/step - loss: 0.0218 - accuracy: 0.9921 - val_loss: 1.0580 - val_accuracy: 0.8447\n",
            "Epoch 12/50\n",
            "750/750 [==============================] - 45s 61ms/step - loss: 0.0210 - accuracy: 0.9918 - val_loss: 0.9661 - val_accuracy: 0.8462\n",
            "Epoch 13/50\n",
            "750/750 [==============================] - 47s 63ms/step - loss: 0.0206 - accuracy: 0.9928 - val_loss: 0.9682 - val_accuracy: 0.8413\n",
            "Epoch 14/50\n",
            "750/750 [==============================] - 46s 61ms/step - loss: 0.0183 - accuracy: 0.9931 - val_loss: 1.0344 - val_accuracy: 0.8427\n",
            "Epoch 15/50\n",
            "750/750 [==============================] - 45s 60ms/step - loss: 0.0172 - accuracy: 0.9939 - val_loss: 0.9163 - val_accuracy: 0.8437\n",
            "Epoch 16/50\n",
            "750/750 [==============================] - 44s 59ms/step - loss: 0.0164 - accuracy: 0.9939 - val_loss: 0.9993 - val_accuracy: 0.8430\n",
            "Epoch 17/50\n",
            "750/750 [==============================] - 45s 60ms/step - loss: 0.0157 - accuracy: 0.9936 - val_loss: 1.0561 - val_accuracy: 0.8437\n",
            "Epoch 18/50\n",
            "750/750 [==============================] - 48s 64ms/step - loss: 0.0158 - accuracy: 0.9946 - val_loss: 1.0301 - val_accuracy: 0.8425\n",
            "Epoch 19/50\n",
            "750/750 [==============================] - 46s 62ms/step - loss: 0.0152 - accuracy: 0.9942 - val_loss: 1.0661 - val_accuracy: 0.8380\n",
            "Epoch 20/50\n",
            "750/750 [==============================] - 46s 62ms/step - loss: 0.0149 - accuracy: 0.9945 - val_loss: 1.0524 - val_accuracy: 0.8455\n",
            "Epoch 21/50\n",
            "750/750 [==============================] - 50s 67ms/step - loss: 0.0128 - accuracy: 0.9952 - val_loss: 1.0813 - val_accuracy: 0.8360\n",
            "Epoch 22/50\n",
            "750/750 [==============================] - 46s 62ms/step - loss: 0.0139 - accuracy: 0.9950 - val_loss: 1.0400 - val_accuracy: 0.8402\n",
            "Epoch 23/50\n",
            "750/750 [==============================] - 45s 61ms/step - loss: 0.0116 - accuracy: 0.9955 - val_loss: 1.1361 - val_accuracy: 0.8393\n",
            "Epoch 24/50\n",
            "750/750 [==============================] - 46s 62ms/step - loss: 0.0127 - accuracy: 0.9953 - val_loss: 1.1024 - val_accuracy: 0.8400\n",
            "Epoch 25/50\n",
            "750/750 [==============================] - 47s 62ms/step - loss: 0.0130 - accuracy: 0.9949 - val_loss: 1.0068 - val_accuracy: 0.8377\n",
            "Epoch 26/50\n",
            "750/750 [==============================] - 45s 60ms/step - loss: 0.0113 - accuracy: 0.9960 - val_loss: 1.1245 - val_accuracy: 0.8417\n",
            "Epoch 27/50\n",
            "750/750 [==============================] - 44s 59ms/step - loss: 0.0106 - accuracy: 0.9960 - val_loss: 1.1272 - val_accuracy: 0.8415\n",
            "Epoch 28/50\n",
            "750/750 [==============================] - 45s 60ms/step - loss: 0.0123 - accuracy: 0.9953 - val_loss: 1.1500 - val_accuracy: 0.8378\n",
            "Epoch 29/50\n",
            "750/750 [==============================] - 45s 60ms/step - loss: 0.0112 - accuracy: 0.9955 - val_loss: 1.1838 - val_accuracy: 0.8412\n",
            "Epoch 30/50\n",
            "750/750 [==============================] - 43s 57ms/step - loss: 0.0108 - accuracy: 0.9960 - val_loss: 1.1454 - val_accuracy: 0.8358\n",
            "Epoch 31/50\n",
            "750/750 [==============================] - 44s 59ms/step - loss: 0.0104 - accuracy: 0.9959 - val_loss: 1.1031 - val_accuracy: 0.8413\n",
            "Epoch 32/50\n",
            "750/750 [==============================] - 44s 59ms/step - loss: 0.0106 - accuracy: 0.9961 - val_loss: 1.1321 - val_accuracy: 0.8410\n",
            "Epoch 33/50\n",
            "750/750 [==============================] - 45s 60ms/step - loss: 0.0098 - accuracy: 0.9962 - val_loss: 1.1328 - val_accuracy: 0.8387\n",
            "Epoch 34/50\n",
            "750/750 [==============================] - 46s 62ms/step - loss: 0.0104 - accuracy: 0.9960 - val_loss: 1.1780 - val_accuracy: 0.8393\n",
            "Epoch 35/50\n",
            "750/750 [==============================] - 46s 61ms/step - loss: 0.0106 - accuracy: 0.9957 - val_loss: 1.0975 - val_accuracy: 0.8380\n",
            "Epoch 36/50\n",
            "750/750 [==============================] - 46s 62ms/step - loss: 0.0096 - accuracy: 0.9961 - val_loss: 1.1990 - val_accuracy: 0.8408\n",
            "Epoch 37/50\n",
            "750/750 [==============================] - 46s 61ms/step - loss: 0.0095 - accuracy: 0.9961 - val_loss: 1.2183 - val_accuracy: 0.8382\n",
            "Epoch 38/50\n",
            "750/750 [==============================] - 45s 60ms/step - loss: 0.0102 - accuracy: 0.9961 - val_loss: 1.1027 - val_accuracy: 0.8455\n",
            "Epoch 39/50\n",
            "750/750 [==============================] - 47s 62ms/step - loss: 0.0096 - accuracy: 0.9964 - val_loss: 1.1445 - val_accuracy: 0.8428\n",
            "Epoch 40/50\n",
            "750/750 [==============================] - 49s 65ms/step - loss: 0.0089 - accuracy: 0.9964 - val_loss: 1.1266 - val_accuracy: 0.8428\n",
            "Epoch 41/50\n",
            "750/750 [==============================] - 45s 59ms/step - loss: 0.0088 - accuracy: 0.9965 - val_loss: 1.1931 - val_accuracy: 0.8452\n",
            "Epoch 42/50\n",
            "750/750 [==============================] - 44s 59ms/step - loss: 0.0086 - accuracy: 0.9967 - val_loss: 1.2196 - val_accuracy: 0.8382\n",
            "Epoch 43/50\n",
            "750/750 [==============================] - 43s 58ms/step - loss: 0.0093 - accuracy: 0.9961 - val_loss: 1.1731 - val_accuracy: 0.8443\n",
            "Epoch 44/50\n",
            "750/750 [==============================] - 45s 60ms/step - loss: 0.0087 - accuracy: 0.9965 - val_loss: 1.2270 - val_accuracy: 0.8380\n",
            "Epoch 45/50\n",
            "750/750 [==============================] - 45s 61ms/step - loss: 0.0097 - accuracy: 0.9962 - val_loss: 1.1616 - val_accuracy: 0.8423\n",
            "Epoch 46/50\n",
            "750/750 [==============================] - 50s 67ms/step - loss: 0.0084 - accuracy: 0.9965 - val_loss: 1.2067 - val_accuracy: 0.8413\n",
            "Epoch 47/50\n",
            "750/750 [==============================] - 45s 60ms/step - loss: 0.0074 - accuracy: 0.9967 - val_loss: 1.3132 - val_accuracy: 0.8420\n",
            "Epoch 48/50\n",
            "750/750 [==============================] - 46s 62ms/step - loss: 0.0077 - accuracy: 0.9967 - val_loss: 1.3594 - val_accuracy: 0.8397\n",
            "Epoch 49/50\n",
            "750/750 [==============================] - 49s 65ms/step - loss: 0.0081 - accuracy: 0.9966 - val_loss: 1.3645 - val_accuracy: 0.8413\n",
            "Epoch 50/50\n",
            "750/750 [==============================] - 46s 61ms/step - loss: 0.0094 - accuracy: 0.9961 - val_loss: 1.2335 - val_accuracy: 0.8347\n"
          ]
        }
      ]
    },
    {
      "cell_type": "code",
      "source": [
        "# Predict probabilities for each class\n",
        "y_pred_prob = model.predict(X_test)\n",
        "\n",
        "# Convert probabilities to class labels\n",
        "y_pred = (y_pred_prob > 0.5).astype(int)\n",
        "\n",
        "# Calculate testing time\n",
        "start_time = time.time()\n",
        "end_time = time.time()\n",
        "testing_time = end_time - start_time\n"
      ],
      "metadata": {
        "colab": {
          "base_uri": "https://localhost:8080/"
        },
        "id": "r2oMuIZ8sQaQ",
        "outputId": "3eb30237-d792-4cea-fc4e-1a5b7813e15e"
      },
      "execution_count": null,
      "outputs": [
        {
          "output_type": "stream",
          "name": "stdout",
          "text": [
            "188/188 [==============================] - 4s 19ms/step\n"
          ]
        }
      ]
    },
    {
      "cell_type": "code",
      "source": [
        "plt.plot(history.history['accuracy'])\n",
        "plt.plot(history.history['val_accuracy'])\n",
        "plt.title('Model Accuracy')\n",
        "plt.xlabel('Epochs')\n",
        "plt.ylabel('Accuracy')\n",
        "plt.legend(['Train', 'Validation'], loc='upper left')\n",
        "plt.show()\n",
        "\n",
        "plt.plot(history.history['loss'])\n",
        "plt.plot(history.history['val_loss'])\n",
        "plt.title('Model Loss')\n",
        "plt.xlabel('Epochs')\n",
        "plt.ylabel('Loss')\n",
        "plt.legend(['Train', 'Validation'], loc='upper left')\n",
        "plt.show()\n"
      ],
      "metadata": {
        "colab": {
          "base_uri": "https://localhost:8080/",
          "height": 927
        },
        "id": "j6hFMN_zvO-l",
        "outputId": "2fc20971-b3b3-498d-89e1-6b4f0b234c06"
      },
      "execution_count": null,
      "outputs": [
        {
          "output_type": "display_data",
          "data": {
            "text/plain": [
              "<Figure size 640x480 with 1 Axes>"
            ],
            "image/png": "[encoded data removed]"
          },
          "metadata": {}
        },
        {
          "output_type": "display_data",
          "data": {
            "text/plain": [
              "<Figure size 640x480 with 1 Axes>"
            ],
            "image/png": "[encoded data removed]"
          },
          "metadata": {}
        }
      ]
    },
    {
      "cell_type": "code",
      "source": [
        "# Evaluate the model on test data\n",
        "accuracy = accuracy_score(y_test, y_pred)\n",
        "precision = precision_score(y_test, y_pred)\n",
        "f1 = f1_score(y_test, y_pred)\n",
        "conf_matrix = confusion_matrix(y_test, y_pred)\n"
      ],
      "metadata": {
        "id": "EISmxw6Lv-kb"
      },
      "execution_count": null,
      "outputs": []
    },
    {
      "cell_type": "code",
      "source": [
        "print(\"Training Time:\", training_time)\n",
        "print(\"Testing Time:\", testing_time)\n",
        "print(\"Accuracy:\", accuracy)\n",
        "print(\"Precision:\", precision)\n",
        "print(\"F1 Score:\", f1)\n",
        "print(\"Confusion Matrix:\\n\", conf_matrix)\n"
      ],
      "metadata": {
        "colab": {
          "base_uri": "https://localhost:8080/"
        },
        "id": "de5QoCZCwfX0",
        "outputId": "988e2c32-dbe6-4e94-ad00-61c7ef7d062a"
      },
      "execution_count": null,
      "outputs": [
        {
          "output_type": "stream",
          "name": "stdout",
          "text": [
            "Training Time: 2298.9924449920654\n",
            "Testing Time: 3.7670135498046875e-05\n",
            "Accuracy: 0.8346666666666667\n",
            "Precision: 0.8292020373514432\n",
            "F1 Score: 0.8311776718856365\n",
            "Confusion Matrix:\n",
            " [[2566  503]\n",
            " [ 489 2442]]\n"
          ]
        }
      ]
    },
    {
      "cell_type": "code",
      "source": [
        "import seaborn as sns\n",
        "\n",
        "# Plot confusion matrix\n",
        "plt.figure(figsize=(8, 6))\n",
        "sns.heatmap(conf_matrix, annot=True, fmt=\"d\", cmap=\"Blues\",\n",
        "            xticklabels=['Non-Hate', 'Hate'], yticklabels=['Non-Hate', 'Hate'])\n",
        "plt.title(\"Confusion Matrix\")\n",
        "plt.xlabel('Predicted labels')\n",
        "plt.ylabel('True labels')\n",
        "plt.show()\n"
      ],
      "metadata": {
        "colab": {
          "base_uri": "https://localhost:8080/",
          "height": 564
        },
        "id": "UOYnUanYwhDS",
        "outputId": "633124ab-4079-4fee-bd3e-307f0ccc35f9"
      },
      "execution_count": null,
      "outputs": [
        {
          "output_type": "display_data",
          "data": {
            "text/plain": [
              "<Figure size 800x600 with 2 Axes>"
            ],
            "image/png": "[encoded data removed]"
          },
          "metadata": {}
        }
      ]
    },
    {
      "cell_type": "code",
      "source": [
        "# Take user input\n",
        "user_input = input(\"Enter a sentence: \")\n",
        "\n",
        "# Tokenize and pad the user input\n",
        "user_input_sequence = tokenizer.texts_to_sequences([user_input])\n",
        "user_input_sequence = pad_sequences(user_input_sequence, maxlen=100)\n",
        "\n",
        "# Predict probabilities for each class\n",
        "probabilities = model.predict(user_input_sequence)\n",
        "\n",
        "# Threshold for classification\n",
        "threshold = 0.5\n",
        "\n",
        "# Determine the predicted class\n",
        "if probabilities[0][0] > threshold:\n",
        "    label = \"Hate Speech\"\n",
        "else:\n",
        "    label = \"Non-Hate Speech\"\n",
        "\n",
        "# Print the prediction\n",
        "print(\"Prediction:\", label)\n"
      ],
      "metadata": {
        "colab": {
          "base_uri": "https://localhost:8080/"
        },
        "id": "d8ux8qDlwtGE",
        "outputId": "4d672697-7ade-475c-c7ee-9acaa7f6c803"
      },
      "execution_count": null,
      "outputs": [
        {
          "output_type": "stream",
          "name": "stdout",
          "text": [
            "Enter a sentence: Allah apko hamesha salamat rakhy\n",
            "1/1 [==============================] - 0s 29ms/step\n",
            "Prediction: Non-Hate Speech\n"
          ]
        }
      ]
    },
    {
      "cell_type": "code",
      "source": [
        "# Save the model\n",
        "model.save(\"hate_speech_detection_model.h5\")\n"
      ],
      "metadata": {
        "colab": {
          "base_uri": "https://localhost:8080/"
        },
        "id": "9tYcbuJ8xUCg",
        "outputId": "dcec11bf-3e72-4539-b39c-d339bce8a668"
      },
      "execution_count": null,
      "outputs": [
        {
          "output_type": "stream",
          "name": "stderr",
          "text": [
            "/usr/local/lib/python3.10/dist-packages/keras/src/engine/training.py:3103: UserWarning: You are saving your model as an HDF5 file via `model.save()`. This file format is considered legacy. We recommend using instead the native Keras format, e.g. `model.save('my_model.keras')`.\n",
            "  saving_api.save_model(\n"
          ]
        }
      ]
    },
    {
      "cell_type": "code",
      "source": [
        "from tensorflow.keras.models import load_model\n",
        "\n",
        "# Load the model\n",
        "loaded_model = load_model(\"hate_speech_detection_model.h5\")\n"
      ],
      "metadata": {
        "id": "q_ANpD5fzNH7"
      },
      "execution_count": null,
      "outputs": []
    },
    {
      "cell_type": "code",
      "source": [],
      "metadata": {
        "id": "B9-JMfrGzPNW"
      },
      "execution_count": null,
      "outputs": []
    }
  ]
}