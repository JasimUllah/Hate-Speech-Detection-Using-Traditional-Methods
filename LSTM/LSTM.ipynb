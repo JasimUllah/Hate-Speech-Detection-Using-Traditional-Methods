{
 "cells": [
  {
   "cell_type": "code",
   "execution_count": 1,
   "id": "5fbcd2fe-02f2-4753-8535-67f05e95abed",
   "metadata": {},
   "outputs": [],
   "source": [
    "import pandas as pd\n",
    "import numpy as np\n",
    "from sklearn.model_selection import train_test_split\n",
    "from sklearn.preprocessing import LabelEncoder\n",
    "from sklearn.metrics import accuracy_score, precision_score, recall_score, f1_score, classification_report\n",
    "from tensorflow.keras.preprocessing.text import Tokenizer\n",
    "from tensorflow.keras.preprocessing.sequence import pad_sequences\n",
    "from tensorflow.keras.models import Sequential\n",
    "from tensorflow.keras.layers import Embedding, LSTM, Dense, SpatialDropout1D\n",
    "from tensorflow.keras.optimizers import Adam\n",
    "import matplotlib.pyplot as plt\n"
   ]
  },
  {
   "cell_type": "code",
   "execution_count": 2,
   "id": "7ee12bff-7956-43a4-ad56-8150e6cb674d",
   "metadata": {},
   "outputs": [],
   "source": [
    "# Load your dataset\n",
    "df = pd.read_csv('Roman_Urdu.csv', encoding = \"latin1\")\n"
   ]
  },
  {
   "cell_type": "code",
   "execution_count": 8,
   "id": "7b446f4c-449f-4b9a-a89c-033fd776423f",
   "metadata": {},
   "outputs": [
    {
     "name": "stderr",
     "output_type": "stream",
     "text": [
      "C:\\Users\\ok\\AppData\\Local\\Temp\\ipykernel_6904\\1714976855.py:3: FutureWarning: A value is trying to be set on a copy of a DataFrame or Series through chained assignment using an inplace method.\n",
      "The behavior will change in pandas 3.0. This inplace method will never work because the intermediate object on which we are setting values always behaves as a copy.\n",
      "\n",
      "For example, when doing 'df[col].method(value, inplace=True)', try using 'df.method({col: value}, inplace=True)' or df[col] = df[col].method(value) instead, to perform the operation inplace on the original object.\n",
      "\n",
      "\n",
      "  df['tweets'].fillna('', inplace=True)    # Handle any NaN values by replacing them with empty strings\n"
     ]
    }
   ],
   "source": [
    "# Preprocessing\n",
    "df['tweets'] = df['tweets'].astype(str)  # Ensure all data in the 'tweets' column are strings\n",
    "df['tweets'].fillna('', inplace=True)    # Handle any NaN values by replacing them with empty strings\n",
    "\n",
    "X = df['tweets'].values\n",
    "y = df['label'].values\n"
   ]
  },
  {
   "cell_type": "code",
   "execution_count": 9,
   "id": "c142ca1a-8d71-4707-941e-20db60bc2112",
   "metadata": {},
   "outputs": [],
   "source": [
    "# Encode the labels\n",
    "le = LabelEncoder()\n",
    "y = le.fit_transform(y)\n"
   ]
  },
  {
   "cell_type": "code",
   "execution_count": 10,
   "id": "e7939990-29e2-4404-86c6-43d63fdfe5b3",
   "metadata": {},
   "outputs": [],
   "source": [
    "# Train/test split\n",
    "X_train, X_test, y_train, y_test = train_test_split(X, y, test_size=0.2, random_state=42)\n"
   ]
  },
  {
   "cell_type": "code",
   "execution_count": 11,
   "id": "7b5dec13-ea3c-4660-b3e3-2d38fc1440b9",
   "metadata": {},
   "outputs": [],
   "source": [
    "# Tokenization and padding\n",
    "max_words = 5000\n",
    "max_len = 100\n",
    "\n",
    "tokenizer = Tokenizer(num_words=max_words, lower=True)\n",
    "tokenizer.fit_on_texts(X_train)\n",
    "\n",
    "X_train_seq = tokenizer.texts_to_sequences(X_train)\n",
    "X_test_seq = tokenizer.texts_to_sequences(X_test)\n",
    "\n",
    "X_train_pad = pad_sequences(X_train_seq, maxlen=max_len)\n",
    "X_test_pad = pad_sequences(X_test_seq, maxlen=max_len)\n"
   ]
  },
  {
   "cell_type": "code",
   "execution_count": 12,
   "id": "5ff7ebb0-ff3b-4bf7-8a92-607b4f8af3ed",
   "metadata": {},
   "outputs": [
    {
     "name": "stderr",
     "output_type": "stream",
     "text": [
      "C:\\Users\\ok\\AppData\\Local\\Programs\\Python\\Python312\\Lib\\site-packages\\keras\\src\\layers\\core\\embedding.py:90: UserWarning: Argument `input_length` is deprecated. Just remove it.\n",
      "  warnings.warn(\n"
     ]
    }
   ],
   "source": [
    "# LSTM Model\n",
    "embedding_dim = 128\n",
    "model = Sequential()\n",
    "model.add(Embedding(max_words, embedding_dim, input_length=max_len))\n",
    "model.add(SpatialDropout1D(0.2))\n",
    "model.add(LSTM(100, dropout=0.2, recurrent_dropout=0.2))\n",
    "model.add(Dense(1, activation='sigmoid'))\n",
    "\n",
    "model.compile(loss='binary_crossentropy', optimizer=Adam(learning_rate=0.001), metrics=['accuracy'])\n"
   ]
  },
  {
   "cell_type": "code",
   "execution_count": 13,
   "id": "84745f25-791b-4a3c-b73a-c33ffb46b74e",
   "metadata": {},
   "outputs": [
    {
     "name": "stdout",
     "output_type": "stream",
     "text": [
      "Epoch 1/10\n",
      "338/338 - 52s - 155ms/step - accuracy: 0.7787 - loss: 0.4591 - val_accuracy: 0.8575 - val_loss: 0.3281\n",
      "Epoch 2/10\n",
      "338/338 - 43s - 126ms/step - accuracy: 0.8832 - loss: 0.2828 - val_accuracy: 0.8675 - val_loss: 0.3098\n",
      "Epoch 3/10\n",
      "338/338 - 40s - 118ms/step - accuracy: 0.9006 - loss: 0.2410 - val_accuracy: 0.8604 - val_loss: 0.3178\n",
      "Epoch 4/10\n",
      "338/338 - 39s - 116ms/step - accuracy: 0.9136 - loss: 0.2124 - val_accuracy: 0.8658 - val_loss: 0.3259\n",
      "Epoch 5/10\n",
      "338/338 - 38s - 113ms/step - accuracy: 0.9257 - loss: 0.1869 - val_accuracy: 0.8608 - val_loss: 0.3401\n",
      "Epoch 6/10\n",
      "338/338 - 40s - 118ms/step - accuracy: 0.9326 - loss: 0.1657 - val_accuracy: 0.8596 - val_loss: 0.4199\n",
      "Epoch 7/10\n",
      "338/338 - 41s - 120ms/step - accuracy: 0.9419 - loss: 0.1462 - val_accuracy: 0.8492 - val_loss: 0.4285\n",
      "Epoch 8/10\n",
      "338/338 - 44s - 130ms/step - accuracy: 0.9485 - loss: 0.1291 - val_accuracy: 0.8504 - val_loss: 0.4683\n",
      "Epoch 9/10\n",
      "338/338 - 39s - 115ms/step - accuracy: 0.9548 - loss: 0.1145 - val_accuracy: 0.8483 - val_loss: 0.5137\n",
      "Epoch 10/10\n",
      "338/338 - 39s - 117ms/step - accuracy: 0.9593 - loss: 0.1026 - val_accuracy: 0.8454 - val_loss: 0.5388\n"
     ]
    }
   ],
   "source": [
    "# Training the model\n",
    "history = model.fit(X_train_pad, y_train, epochs=10, batch_size=64, validation_split=0.1, verbose=2)\n"
   ]
  },
  {
   "cell_type": "code",
   "execution_count": 14,
   "id": "f3512f14-23da-43c9-8ccc-2b31d608fc9d",
   "metadata": {},
   "outputs": [
    {
     "name": "stdout",
     "output_type": "stream",
     "text": [
      "\u001b[1m188/188\u001b[0m \u001b[32m━━━━━━━━━━━━━━━━━━━━\u001b[0m\u001b[37m\u001b[0m \u001b[1m7s\u001b[0m 34ms/step\n",
      "Accuracy: 0.8411666666666666\n",
      "Precision: 0.8420032310177706\n",
      "Recall: 0.8488599348534202\n",
      "F1 Score: 0.8454176804541768\n",
      "              precision    recall  f1-score   support\n",
      "\n",
      "           0       0.84      0.83      0.84      2930\n",
      "           1       0.84      0.85      0.85      3070\n",
      "\n",
      "    accuracy                           0.84      6000\n",
      "   macro avg       0.84      0.84      0.84      6000\n",
      "weighted avg       0.84      0.84      0.84      6000\n",
      "\n"
     ]
    }
   ],
   "source": [
    "# Evaluating the model\n",
    "y_pred_prob = model.predict(X_test_pad)\n",
    "y_pred = (y_pred_prob > 0.5).astype(int)\n",
    "\n",
    "accuracy = accuracy_score(y_test, y_pred)\n",
    "precision = precision_score(y_test, y_pred)\n",
    "recall = recall_score(y_test, y_pred)\n",
    "f1 = f1_score(y_test, y_pred)\n",
    "\n",
    "print(f'Accuracy: {accuracy}')\n",
    "print(f'Precision: {precision}')\n",
    "print(f'Recall: {recall}')\n",
    "print(f'F1 Score: {f1}')\n",
    "print(classification_report(y_test, y_pred))\n"
   ]
  },
  {
   "cell_type": "code",
   "execution_count": null,
   "id": "a1209024-c35e-44ac-9279-2da22edfc870",
   "metadata": {},
   "outputs": [],
   "source": []
  }
 ],
 "metadata": {
  "kernelspec": {
   "display_name": "Python 3 (ipykernel)",
   "language": "python",
   "name": "python3"
  },
  "language_info": {
   "codemirror_mode": {
    "name": "ipython",
    "version": 3
   },
   "file_extension": ".py",
   "mimetype": "text/x-python",
   "name": "python",
   "nbconvert_exporter": "python",
   "pygments_lexer": "ipython3",
   "version": "3.12.2"
  }
 },
 "nbformat": 4,
 "nbformat_minor": 5
}
